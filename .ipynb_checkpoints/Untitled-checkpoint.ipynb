{
 "cells": [
  {
   "cell_type": "markdown",
   "id": "b6f37835",
   "metadata": {},
   "source": [
    "## 한국부동산원_전국주택가격동향조사_월간동향_아파트_전세가격(평균단위전세가격)\n",
    "\n",
    "#### 한국부동산원(구.한국감정원)에서 조사 공표하는 전국주택가격동향조사 월간동향 중 아파트의 전세가격-평균단위전세가격 데이터입니다.\n",
    "- 공표시기(월간) : 익월 15일(발표일이 휴일인 경우 그 다음날)\n",
    "- 단위 : 천원/㎡"
   ]
  },
  {
   "cell_type": "code",
   "execution_count": 49,
   "id": "34c188d1",
   "metadata": {},
   "outputs": [],
   "source": [
    "import pandas as pd\n",
    "import numpy as np"
   ]
  },
  {
   "cell_type": "code",
   "execution_count": 50,
   "id": "2e8eea78",
   "metadata": {},
   "outputs": [
    {
     "data": {
      "text/html": [
       "<div>\n",
       "<style scoped>\n",
       "    .dataframe tbody tr th:only-of-type {\n",
       "        vertical-align: middle;\n",
       "    }\n",
       "\n",
       "    .dataframe tbody tr th {\n",
       "        vertical-align: top;\n",
       "    }\n",
       "\n",
       "    .dataframe thead th {\n",
       "        text-align: right;\n",
       "    }\n",
       "</style>\n",
       "<table border=\"1\" class=\"dataframe\">\n",
       "  <thead>\n",
       "    <tr style=\"text-align: right;\">\n",
       "      <th></th>\n",
       "      <th>지역</th>\n",
       "      <th>2012-01</th>\n",
       "      <th>2012-02</th>\n",
       "      <th>2012-03</th>\n",
       "      <th>2012-04</th>\n",
       "      <th>2012-05</th>\n",
       "      <th>2012-06</th>\n",
       "      <th>2012-07</th>\n",
       "      <th>2012-08</th>\n",
       "      <th>2012-09</th>\n",
       "      <th>...</th>\n",
       "      <th>2021-11</th>\n",
       "      <th>2021-12</th>\n",
       "      <th>2022-01</th>\n",
       "      <th>2022-02</th>\n",
       "      <th>2022-03</th>\n",
       "      <th>2022-04</th>\n",
       "      <th>2022-05</th>\n",
       "      <th>2022-06</th>\n",
       "      <th>2022-07</th>\n",
       "      <th>2022-08</th>\n",
       "    </tr>\n",
       "  </thead>\n",
       "  <tbody>\n",
       "    <tr>\n",
       "      <th>9</th>\n",
       "      <td>서울 도심권</td>\n",
       "      <td>3425.0</td>\n",
       "      <td>3425.0</td>\n",
       "      <td>3426.0</td>\n",
       "      <td>3428.0</td>\n",
       "      <td>3424.0</td>\n",
       "      <td>3407.0</td>\n",
       "      <td>3404.0</td>\n",
       "      <td>3413.0</td>\n",
       "      <td>3425.0</td>\n",
       "      <td>...</td>\n",
       "      <td>8247.0</td>\n",
       "      <td>8265.0</td>\n",
       "      <td>8266.0</td>\n",
       "      <td>8257.0</td>\n",
       "      <td>8238.0</td>\n",
       "      <td>8225.0</td>\n",
       "      <td>8221.0</td>\n",
       "      <td>8212.0</td>\n",
       "      <td>8197.0</td>\n",
       "      <td>8165.0</td>\n",
       "    </tr>\n",
       "  </tbody>\n",
       "</table>\n",
       "<p>1 rows × 129 columns</p>\n",
       "</div>"
      ],
      "text/plain": [
       "       지역  2012-01  2012-02  2012-03  2012-04  2012-05  2012-06  2012-07  \\\n",
       "9  서울 도심권   3425.0   3425.0   3426.0   3428.0   3424.0   3407.0   3404.0   \n",
       "\n",
       "   2012-08  2012-09  ...  2021-11  2021-12  2022-01  2022-02  2022-03  \\\n",
       "9   3413.0   3425.0  ...   8247.0   8265.0   8266.0   8257.0   8238.0   \n",
       "\n",
       "   2022-04  2022-05  2022-06  2022-07  2022-08  \n",
       "9   8225.0   8221.0   8212.0   8197.0   8165.0  \n",
       "\n",
       "[1 rows x 129 columns]"
      ]
     },
     "execution_count": 50,
     "metadata": {},
     "output_type": "execute_result"
    }
   ],
   "source": [
    "df = pd.read_csv('./data.csv', encoding = 'cp949')\n",
    "df.loc[[9]]"
   ]
  },
  {
   "cell_type": "code",
   "execution_count": 53,
   "id": "92dabb93",
   "metadata": {},
   "outputs": [
    {
     "ename": "AttributeError",
     "evalue": "'numpy.ndarray' object has no attribute 'show'",
     "output_type": "error",
     "traceback": [
      "\u001b[0;31m---------------------------------------------------------------------------\u001b[0m",
      "\u001b[0;31mAttributeError\u001b[0m                            Traceback (most recent call last)",
      "\u001b[0;32m/var/folders/ym/sphjplbx305cntlkn9_63d_r0000gn/T/ipykernel_37732/283183934.py\u001b[0m in \u001b[0;36m<module>\u001b[0;34m\u001b[0m\n\u001b[1;32m      7\u001b[0m \u001b[0mdata\u001b[0m \u001b[0;34m=\u001b[0m \u001b[0mmap\u001b[0m\u001b[0;34m(\u001b[0m\u001b[0mint\u001b[0m\u001b[0;34m,\u001b[0m \u001b[0mdata\u001b[0m\u001b[0;34m)\u001b[0m\u001b[0;34m\u001b[0m\u001b[0;34m\u001b[0m\u001b[0m\n\u001b[1;32m      8\u001b[0m \u001b[0mdata\u001b[0m \u001b[0;34m=\u001b[0m \u001b[0mnp\u001b[0m\u001b[0;34m.\u001b[0m\u001b[0marray\u001b[0m\u001b[0;34m(\u001b[0m\u001b[0mdata\u001b[0m\u001b[0;34m)\u001b[0m\u001b[0;34m\u001b[0m\u001b[0;34m\u001b[0m\u001b[0m\n\u001b[0;32m----> 9\u001b[0;31m \u001b[0mdata\u001b[0m\u001b[0;34m.\u001b[0m\u001b[0mshow\u001b[0m\u001b[0;34m(\u001b[0m\u001b[0;34m)\u001b[0m\u001b[0;34m\u001b[0m\u001b[0;34m\u001b[0m\u001b[0m\n\u001b[0m",
      "\u001b[0;31mAttributeError\u001b[0m: 'numpy.ndarray' object has no attribute 'show'"
     ]
    }
   ],
   "source": [
    "dic = df.loc[[9]].to_dict()\n",
    "data = []\n",
    "for key in dic:\n",
    "    data.append(dic[key][9])\n",
    "\n",
    "del data[0]\n",
    "data = map(int, data)\n",
    "data = np.array(data)"
   ]
  },
  {
   "cell_type": "code",
   "execution_count": null,
   "id": "4d1d1271",
   "metadata": {},
   "outputs": [],
   "source": []
  }
 ],
 "metadata": {
  "kernelspec": {
   "display_name": "Python 3 (ipykernel)",
   "language": "python",
   "name": "python3"
  },
  "language_info": {
   "codemirror_mode": {
    "name": "ipython",
    "version": 3
   },
   "file_extension": ".py",
   "mimetype": "text/x-python",
   "name": "python",
   "nbconvert_exporter": "python",
   "pygments_lexer": "ipython3",
   "version": "3.9.13"
  }
 },
 "nbformat": 4,
 "nbformat_minor": 5
}
