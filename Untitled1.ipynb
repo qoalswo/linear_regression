{
 "cells": [
  {
   "cell_type": "code",
   "execution_count": 1,
   "id": "c820a7e5",
   "metadata": {},
   "outputs": [],
   "source": [
    "import pandas as pd\n",
    "import numpy as np\n",
    "import matplotlib as plt\n",
    "import matplotlib.pyplot as plt\n",
    "from sklearn.linear_model import LinearRegression\n",
    "import math"
   ]
  },
  {
   "cell_type": "code",
   "execution_count": 3,
   "id": "b600423b",
   "metadata": {},
   "outputs": [],
   "source": [
    "df = pd.read_csv('./tall.csv')"
   ]
  },
  {
   "cell_type": "code",
   "execution_count": 4,
   "id": "4a5715a5",
   "metadata": {},
   "outputs": [
    {
     "data": {
      "text/html": [
       "<div>\n",
       "<style scoped>\n",
       "    .dataframe tbody tr th:only-of-type {\n",
       "        vertical-align: middle;\n",
       "    }\n",
       "\n",
       "    .dataframe tbody tr th {\n",
       "        vertical-align: top;\n",
       "    }\n",
       "\n",
       "    .dataframe thead th {\n",
       "        text-align: right;\n",
       "    }\n",
       "</style>\n",
       "<table border=\"1\" class=\"dataframe\">\n",
       "  <thead>\n",
       "    <tr style=\"text-align: right;\">\n",
       "      <th></th>\n",
       "      <th>모</th>\n",
       "      <th>부</th>\n",
       "      <th>남</th>\n",
       "      <th>여</th>\n",
       "      <th>부모평균</th>\n",
       "    </tr>\n",
       "  </thead>\n",
       "  <tbody>\n",
       "    <tr>\n",
       "      <th>0</th>\n",
       "      <td>188</td>\n",
       "      <td>171</td>\n",
       "      <td>190</td>\n",
       "      <td>157</td>\n",
       "      <td>179.5</td>\n",
       "    </tr>\n",
       "    <tr>\n",
       "      <th>1</th>\n",
       "      <td>146</td>\n",
       "      <td>163</td>\n",
       "      <td>142</td>\n",
       "      <td>166</td>\n",
       "      <td>154.5</td>\n",
       "    </tr>\n",
       "    <tr>\n",
       "      <th>2</th>\n",
       "      <td>162</td>\n",
       "      <td>174</td>\n",
       "      <td>168</td>\n",
       "      <td>147</td>\n",
       "      <td>168.0</td>\n",
       "    </tr>\n",
       "    <tr>\n",
       "      <th>3</th>\n",
       "      <td>157</td>\n",
       "      <td>179</td>\n",
       "      <td>168</td>\n",
       "      <td>159</td>\n",
       "      <td>168.0</td>\n",
       "    </tr>\n",
       "    <tr>\n",
       "      <th>4</th>\n",
       "      <td>147</td>\n",
       "      <td>179</td>\n",
       "      <td>140</td>\n",
       "      <td>180</td>\n",
       "      <td>163.0</td>\n",
       "    </tr>\n",
       "    <tr>\n",
       "      <th>...</th>\n",
       "      <td>...</td>\n",
       "      <td>...</td>\n",
       "      <td>...</td>\n",
       "      <td>...</td>\n",
       "      <td>...</td>\n",
       "    </tr>\n",
       "    <tr>\n",
       "      <th>95</th>\n",
       "      <td>181</td>\n",
       "      <td>179</td>\n",
       "      <td>180</td>\n",
       "      <td>182</td>\n",
       "      <td>180.0</td>\n",
       "    </tr>\n",
       "    <tr>\n",
       "      <th>96</th>\n",
       "      <td>174</td>\n",
       "      <td>157</td>\n",
       "      <td>147</td>\n",
       "      <td>156</td>\n",
       "      <td>165.5</td>\n",
       "    </tr>\n",
       "    <tr>\n",
       "      <th>97</th>\n",
       "      <td>184</td>\n",
       "      <td>168</td>\n",
       "      <td>145</td>\n",
       "      <td>190</td>\n",
       "      <td>176.0</td>\n",
       "    </tr>\n",
       "    <tr>\n",
       "      <th>98</th>\n",
       "      <td>166</td>\n",
       "      <td>172</td>\n",
       "      <td>186</td>\n",
       "      <td>168</td>\n",
       "      <td>169.0</td>\n",
       "    </tr>\n",
       "    <tr>\n",
       "      <th>99</th>\n",
       "      <td>148</td>\n",
       "      <td>147</td>\n",
       "      <td>159</td>\n",
       "      <td>163</td>\n",
       "      <td>147.5</td>\n",
       "    </tr>\n",
       "  </tbody>\n",
       "</table>\n",
       "<p>100 rows × 5 columns</p>\n",
       "</div>"
      ],
      "text/plain": [
       "      모    부    남    여   부모평균\n",
       "0   188  171  190  157  179.5\n",
       "1   146  163  142  166  154.5\n",
       "2   162  174  168  147  168.0\n",
       "3   157  179  168  159  168.0\n",
       "4   147  179  140  180  163.0\n",
       "..  ...  ...  ...  ...    ...\n",
       "95  181  179  180  182  180.0\n",
       "96  174  157  147  156  165.5\n",
       "97  184  168  145  190  176.0\n",
       "98  166  172  186  168  169.0\n",
       "99  148  147  159  163  147.5\n",
       "\n",
       "[100 rows x 5 columns]"
      ]
     },
     "execution_count": 4,
     "metadata": {},
     "output_type": "execute_result"
    }
   ],
   "source": [
    "df"
   ]
  },
  {
   "cell_type": "code",
   "execution_count": 5,
   "id": "2421890a",
   "metadata": {},
   "outputs": [
    {
     "data": {
      "text/html": [
       "<div>\n",
       "<style scoped>\n",
       "    .dataframe tbody tr th:only-of-type {\n",
       "        vertical-align: middle;\n",
       "    }\n",
       "\n",
       "    .dataframe tbody tr th {\n",
       "        vertical-align: top;\n",
       "    }\n",
       "\n",
       "    .dataframe thead th {\n",
       "        text-align: right;\n",
       "    }\n",
       "</style>\n",
       "<table border=\"1\" class=\"dataframe\">\n",
       "  <thead>\n",
       "    <tr style=\"text-align: right;\">\n",
       "      <th></th>\n",
       "      <th>남</th>\n",
       "      <th>여</th>\n",
       "      <th>부모평균</th>\n",
       "    </tr>\n",
       "  </thead>\n",
       "  <tbody>\n",
       "    <tr>\n",
       "      <th>0</th>\n",
       "      <td>190</td>\n",
       "      <td>157</td>\n",
       "      <td>179.5</td>\n",
       "    </tr>\n",
       "    <tr>\n",
       "      <th>1</th>\n",
       "      <td>142</td>\n",
       "      <td>166</td>\n",
       "      <td>154.5</td>\n",
       "    </tr>\n",
       "    <tr>\n",
       "      <th>2</th>\n",
       "      <td>168</td>\n",
       "      <td>147</td>\n",
       "      <td>168.0</td>\n",
       "    </tr>\n",
       "    <tr>\n",
       "      <th>3</th>\n",
       "      <td>168</td>\n",
       "      <td>159</td>\n",
       "      <td>168.0</td>\n",
       "    </tr>\n",
       "    <tr>\n",
       "      <th>4</th>\n",
       "      <td>140</td>\n",
       "      <td>180</td>\n",
       "      <td>163.0</td>\n",
       "    </tr>\n",
       "    <tr>\n",
       "      <th>...</th>\n",
       "      <td>...</td>\n",
       "      <td>...</td>\n",
       "      <td>...</td>\n",
       "    </tr>\n",
       "    <tr>\n",
       "      <th>95</th>\n",
       "      <td>180</td>\n",
       "      <td>182</td>\n",
       "      <td>180.0</td>\n",
       "    </tr>\n",
       "    <tr>\n",
       "      <th>96</th>\n",
       "      <td>147</td>\n",
       "      <td>156</td>\n",
       "      <td>165.5</td>\n",
       "    </tr>\n",
       "    <tr>\n",
       "      <th>97</th>\n",
       "      <td>145</td>\n",
       "      <td>190</td>\n",
       "      <td>176.0</td>\n",
       "    </tr>\n",
       "    <tr>\n",
       "      <th>98</th>\n",
       "      <td>186</td>\n",
       "      <td>168</td>\n",
       "      <td>169.0</td>\n",
       "    </tr>\n",
       "    <tr>\n",
       "      <th>99</th>\n",
       "      <td>159</td>\n",
       "      <td>163</td>\n",
       "      <td>147.5</td>\n",
       "    </tr>\n",
       "  </tbody>\n",
       "</table>\n",
       "<p>100 rows × 3 columns</p>\n",
       "</div>"
      ],
      "text/plain": [
       "      남    여   부모평균\n",
       "0   190  157  179.5\n",
       "1   142  166  154.5\n",
       "2   168  147  168.0\n",
       "3   168  159  168.0\n",
       "4   140  180  163.0\n",
       "..  ...  ...    ...\n",
       "95  180  182  180.0\n",
       "96  147  156  165.5\n",
       "97  145  190  176.0\n",
       "98  186  168  169.0\n",
       "99  159  163  147.5\n",
       "\n",
       "[100 rows x 3 columns]"
      ]
     },
     "execution_count": 5,
     "metadata": {},
     "output_type": "execute_result"
    }
   ],
   "source": [
    "mydf = df[['남', '여', '부모평균']]\n",
    "mydf"
   ]
  },
  {
   "cell_type": "code",
   "execution_count": 13,
   "id": "9238f309",
   "metadata": {},
   "outputs": [
    {
     "data": {
      "image/png": "[encoded data removed]",
      "text/plain": [
       "<Figure size 640x480 with 1 Axes>"
      ]
     },
     "metadata": {},
     "output_type": "display_data"
    }
   ],
   "source": [
    "x_val = mydf['부모평균']\n",
    "y_val = mydf['남']\n",
    "\n",
    "plt.scatter(x_val, y_val)\n",
    "plt.show()"
   ]
  },
  {
   "cell_type": "code",
   "execution_count": 14,
   "id": "45ab93fd",
   "metadata": {},
   "outputs": [
    {
     "data": {
      "text/plain": [
       "[<matplotlib.lines.Line2D at 0x7ff26826bb80>]"
      ]
     },
     "execution_count": 14,
     "metadata": {},
     "output_type": "execute_result"
    },
    {
     "data": {
      "image/png": "[encoded data removed]",
      "text/plain": [
       "<Figure size 640x480 with 1 Axes>"
      ]
     },
     "metadata": {},
     "output_type": "display_data"
    }
   ],
   "source": [
    "line_filtter = LinearRegression()\n",
    "line_filtter.fit(x_val.values.reshape(-1,1), y_val)\n",
    "\n",
    "plt.scatter(x_val, y_val, c='green')\n",
    "plt.plot(x_val,line_filtter.predict(x_val.values.reshape(-1,1)), c='red')"
   ]
  },
  {
   "cell_type": "code",
   "execution_count": 15,
   "id": "103834c9",
   "metadata": {},
   "outputs": [
    {
     "name": "stdout",
     "output_type": "stream",
     "text": [
      "부모키의 평균이170cm 일때 남자 자녀의 키 예상: 162cm\n",
      "부모키의 평균이180cm 일때 남자 자녀의 키 예상: 161cm\n",
      "부모키의 평균이169cm 일때 남자 자녀의 키 예상: 162cm\n",
      "부모키의 평균이166cm 일때 남자 자녀의 키 예상: 162cm\n",
      "부모키의 평균이178cm 일때 남자 자녀의 키 예상: 161cm\n"
     ]
    }
   ],
   "source": [
    "predict_year = [170,180,169,166,178]\n",
    "for y in predict_year:\n",
    "    print(f'부모키의 평균이{y}cm 일때 남자 자녀의 키 예상: {math.floor(line_filtter.predict([[y]])[0])}cm')"
   ]
  },
  {
   "cell_type": "code",
   "execution_count": 17,
   "id": "88cc770b",
   "metadata": {},
   "outputs": [
    {
     "data": {
      "image/png": "[encoded data removed]",
      "text/plain": [
       "<Figure size 640x480 with 1 Axes>"
      ]
     },
     "metadata": {},
     "output_type": "display_data"
    }
   ],
   "source": [
    "x_val = mydf['부모평균']\n",
    "y_val = mydf['여']\n",
    "\n",
    "plt.scatter(x_val, y_val)\n",
    "plt.show()"
   ]
  },
  {
   "cell_type": "code",
   "execution_count": 18,
   "id": "526ed93d",
   "metadata": {},
   "outputs": [
    {
     "data": {
      "text/plain": [
       "[<matplotlib.lines.Line2D at 0x7ff299308700>]"
      ]
     },
     "execution_count": 18,
     "metadata": {},
     "output_type": "execute_result"
    },
    {
     "data": {
      "image/png": "[encoded data removed]",
      "text/plain": [
       "<Figure size 640x480 with 1 Axes>"
      ]
     },
     "metadata": {},
     "output_type": "display_data"
    }
   ],
   "source": [
    "line_filtter = LinearRegression()\n",
    "line_filtter.fit(x_val.values.reshape(-1,1), y_val)\n",
    "\n",
    "plt.scatter(x_val, y_val, c='green')\n",
    "plt.plot(x_val,line_filtter.predict(x_val.values.reshape(-1,1)), c='red')"
   ]
  },
  {
   "cell_type": "code",
   "execution_count": 19,
   "id": "de1f069c",
   "metadata": {},
   "outputs": [
    {
     "name": "stdout",
     "output_type": "stream",
     "text": [
      "부모키의 평균이170cm 일때 여자 자녀의 키 예상: 163cm\n",
      "부모키의 평균이180cm 일때 여자 자녀의 키 예상: 164cm\n",
      "부모키의 평균이169cm 일때 여자 자녀의 키 예상: 163cm\n",
      "부모키의 평균이166cm 일때 여자 자녀의 키 예상: 163cm\n",
      "부모키의 평균이178cm 일때 여자 자녀의 키 예상: 163cm\n"
     ]
    }
   ],
   "source": [
    "predict_year = [170,180,169,166,178]\n",
    "for y in predict_year:\n",
    "    print(f'부모키의 평균이{y}cm 일때 여자 자녀의 키 예상: {math.floor(line_filtter.predict([[y]])[0])}cm')"
   ]
  },
  {
   "cell_type": "code",
   "execution_count": null,
   "id": "5d67472f",
   "metadata": {},
   "outputs": [],
   "source": []
  }
 ],
 "metadata": {
  "kernelspec": {
   "display_name": "Python 3 (ipykernel)",
   "language": "python",
   "name": "python3"
  },
  "language_info": {
   "codemirror_mode": {
    "name": "ipython",
    "version": 3
   },
   "file_extension": ".py",
   "mimetype": "text/x-python",
   "name": "python",
   "nbconvert_exporter": "python",
   "pygments_lexer": "ipython3",
   "version": "3.9.13"
  }
 },
 "nbformat": 4,
 "nbformat_minor": 5
}
